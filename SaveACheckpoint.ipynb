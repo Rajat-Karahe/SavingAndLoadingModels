{
  "nbformat": 4,
  "nbformat_minor": 0,
  "metadata": {
    "colab": {
      "name": "SaveACheckpoint.ipynb",
      "provenance": [],
      "mount_file_id": "1GtgnIwUuW_cuaJoIS3tISckEKpIBpWLR",
      "authorship_tag": "ABX9TyMT4gA4Yidsjm0a37PrIf4d"
    },
    "kernelspec": {
      "name": "python3",
      "display_name": "Python 3"
    }
  },
  "cells": [
    {
      "cell_type": "code",
      "metadata": {
        "id": "7SytfEww2Fky",
        "colab_type": "code",
        "colab": {}
      },
      "source": [
        "import numpy as np\n",
        "import pandas as pd\n",
        "\n",
        "import torch\n",
        "import torch.nn as nn\n",
        "import torch.nn.functional as F"
      ],
      "execution_count": 0,
      "outputs": []
    },
    {
      "cell_type": "code",
      "metadata": {
        "id": "ti4lwSOYyd5Z",
        "colab_type": "code",
        "colab": {}
      },
      "source": [
        "wine_data = pd.read_csv('/content/drive/My Drive/Deep_Learning_Projects/Wine_Dataset/wine.csv')"
      ],
      "execution_count": 0,
      "outputs": []
    },
    {
      "cell_type": "code",
      "metadata": {
        "id": "7qXzO8syygkb",
        "colab_type": "code",
        "outputId": "0bd5098a-8e74-4259-beac-0cdf10d3ef22",
        "colab": {
          "base_uri": "https://localhost:8080/",
          "height": 249
        }
      },
      "source": [
        "wine_data.head()"
      ],
      "execution_count": 26,
      "outputs": [
        {
          "output_type": "execute_result",
          "data": {
            "text/html": [
              "<div>\n",
              "<style scoped>\n",
              "    .dataframe tbody tr th:only-of-type {\n",
              "        vertical-align: middle;\n",
              "    }\n",
              "\n",
              "    .dataframe tbody tr th {\n",
              "        vertical-align: top;\n",
              "    }\n",
              "\n",
              "    .dataframe thead th {\n",
              "        text-align: right;\n",
              "    }\n",
              "</style>\n",
              "<table border=\"1\" class=\"dataframe\">\n",
              "  <thead>\n",
              "    <tr style=\"text-align: right;\">\n",
              "      <th></th>\n",
              "      <th>Class</th>\n",
              "      <th>Alcohol</th>\n",
              "      <th>Malic acid</th>\n",
              "      <th>Ash</th>\n",
              "      <th>Alcalinity of ash</th>\n",
              "      <th>Magnesium</th>\n",
              "      <th>Total phenols</th>\n",
              "      <th>Flavanoids</th>\n",
              "      <th>Nonflavanoid phenols</th>\n",
              "      <th>Proanthocyanins</th>\n",
              "      <th>Color intensity</th>\n",
              "      <th>Hue</th>\n",
              "      <th>OD280/OD315 of diluted wines</th>\n",
              "      <th>Proline</th>\n",
              "    </tr>\n",
              "  </thead>\n",
              "  <tbody>\n",
              "    <tr>\n",
              "      <th>0</th>\n",
              "      <td>0</td>\n",
              "      <td>14.23</td>\n",
              "      <td>1.71</td>\n",
              "      <td>2.43</td>\n",
              "      <td>15.6</td>\n",
              "      <td>127</td>\n",
              "      <td>2.80</td>\n",
              "      <td>3.06</td>\n",
              "      <td>0.28</td>\n",
              "      <td>2.29</td>\n",
              "      <td>5.64</td>\n",
              "      <td>1.04</td>\n",
              "      <td>3.92</td>\n",
              "      <td>1065</td>\n",
              "    </tr>\n",
              "    <tr>\n",
              "      <th>1</th>\n",
              "      <td>0</td>\n",
              "      <td>13.20</td>\n",
              "      <td>1.78</td>\n",
              "      <td>2.14</td>\n",
              "      <td>11.2</td>\n",
              "      <td>100</td>\n",
              "      <td>2.65</td>\n",
              "      <td>2.76</td>\n",
              "      <td>0.26</td>\n",
              "      <td>1.28</td>\n",
              "      <td>4.38</td>\n",
              "      <td>1.05</td>\n",
              "      <td>3.40</td>\n",
              "      <td>1050</td>\n",
              "    </tr>\n",
              "    <tr>\n",
              "      <th>2</th>\n",
              "      <td>0</td>\n",
              "      <td>13.16</td>\n",
              "      <td>2.36</td>\n",
              "      <td>2.67</td>\n",
              "      <td>18.6</td>\n",
              "      <td>101</td>\n",
              "      <td>2.80</td>\n",
              "      <td>3.24</td>\n",
              "      <td>0.30</td>\n",
              "      <td>2.81</td>\n",
              "      <td>5.68</td>\n",
              "      <td>1.03</td>\n",
              "      <td>3.17</td>\n",
              "      <td>1185</td>\n",
              "    </tr>\n",
              "    <tr>\n",
              "      <th>3</th>\n",
              "      <td>0</td>\n",
              "      <td>14.37</td>\n",
              "      <td>1.95</td>\n",
              "      <td>2.50</td>\n",
              "      <td>16.8</td>\n",
              "      <td>113</td>\n",
              "      <td>3.85</td>\n",
              "      <td>3.49</td>\n",
              "      <td>0.24</td>\n",
              "      <td>2.18</td>\n",
              "      <td>7.80</td>\n",
              "      <td>0.86</td>\n",
              "      <td>3.45</td>\n",
              "      <td>1480</td>\n",
              "    </tr>\n",
              "    <tr>\n",
              "      <th>4</th>\n",
              "      <td>0</td>\n",
              "      <td>13.24</td>\n",
              "      <td>2.59</td>\n",
              "      <td>2.87</td>\n",
              "      <td>21.0</td>\n",
              "      <td>118</td>\n",
              "      <td>2.80</td>\n",
              "      <td>2.69</td>\n",
              "      <td>0.39</td>\n",
              "      <td>1.82</td>\n",
              "      <td>4.32</td>\n",
              "      <td>1.04</td>\n",
              "      <td>2.93</td>\n",
              "      <td>735</td>\n",
              "    </tr>\n",
              "  </tbody>\n",
              "</table>\n",
              "</div>"
            ],
            "text/plain": [
              "   Class  Alcohol  Malic acid  ...   Hue  OD280/OD315 of diluted wines  Proline\n",
              "0      0    14.23        1.71  ...  1.04                          3.92     1065\n",
              "1      0    13.20        1.78  ...  1.05                          3.40     1050\n",
              "2      0    13.16        2.36  ...  1.03                          3.17     1185\n",
              "3      0    14.37        1.95  ...  0.86                          3.45     1480\n",
              "4      0    13.24        2.59  ...  1.04                          2.93      735\n",
              "\n",
              "[5 rows x 14 columns]"
            ]
          },
          "metadata": {
            "tags": []
          },
          "execution_count": 26
        }
      ]
    },
    {
      "cell_type": "code",
      "metadata": {
        "id": "1_aAYPIyypar",
        "colab_type": "code",
        "outputId": "1e7c3ae2-d486-4b0d-c61d-e3d900b78f14",
        "colab": {
          "base_uri": "https://localhost:8080/",
          "height": 34
        }
      },
      "source": [
        "wine_data.shape"
      ],
      "execution_count": 27,
      "outputs": [
        {
          "output_type": "execute_result",
          "data": {
            "text/plain": [
              "(178, 14)"
            ]
          },
          "metadata": {
            "tags": []
          },
          "execution_count": 27
        }
      ]
    },
    {
      "cell_type": "code",
      "metadata": {
        "id": "eqQjqI3Syr1G",
        "colab_type": "code",
        "outputId": "0fb84e00-533d-4675-a2c2-0942f8beab6d",
        "colab": {
          "base_uri": "https://localhost:8080/",
          "height": 338
        }
      },
      "source": [
        "wine_data.sample(8)"
      ],
      "execution_count": 28,
      "outputs": [
        {
          "output_type": "execute_result",
          "data": {
            "text/html": [
              "<div>\n",
              "<style scoped>\n",
              "    .dataframe tbody tr th:only-of-type {\n",
              "        vertical-align: middle;\n",
              "    }\n",
              "\n",
              "    .dataframe tbody tr th {\n",
              "        vertical-align: top;\n",
              "    }\n",
              "\n",
              "    .dataframe thead th {\n",
              "        text-align: right;\n",
              "    }\n",
              "</style>\n",
              "<table border=\"1\" class=\"dataframe\">\n",
              "  <thead>\n",
              "    <tr style=\"text-align: right;\">\n",
              "      <th></th>\n",
              "      <th>Class</th>\n",
              "      <th>Alcohol</th>\n",
              "      <th>Malic acid</th>\n",
              "      <th>Ash</th>\n",
              "      <th>Alcalinity of ash</th>\n",
              "      <th>Magnesium</th>\n",
              "      <th>Total phenols</th>\n",
              "      <th>Flavanoids</th>\n",
              "      <th>Nonflavanoid phenols</th>\n",
              "      <th>Proanthocyanins</th>\n",
              "      <th>Color intensity</th>\n",
              "      <th>Hue</th>\n",
              "      <th>OD280/OD315 of diluted wines</th>\n",
              "      <th>Proline</th>\n",
              "    </tr>\n",
              "  </thead>\n",
              "  <tbody>\n",
              "    <tr>\n",
              "      <th>167</th>\n",
              "      <td>2</td>\n",
              "      <td>12.82</td>\n",
              "      <td>3.37</td>\n",
              "      <td>2.30</td>\n",
              "      <td>19.5</td>\n",
              "      <td>88</td>\n",
              "      <td>1.48</td>\n",
              "      <td>0.66</td>\n",
              "      <td>0.40</td>\n",
              "      <td>0.97</td>\n",
              "      <td>10.26</td>\n",
              "      <td>0.72</td>\n",
              "      <td>1.75</td>\n",
              "      <td>685</td>\n",
              "    </tr>\n",
              "    <tr>\n",
              "      <th>27</th>\n",
              "      <td>0</td>\n",
              "      <td>13.30</td>\n",
              "      <td>1.72</td>\n",
              "      <td>2.14</td>\n",
              "      <td>17.0</td>\n",
              "      <td>94</td>\n",
              "      <td>2.40</td>\n",
              "      <td>2.19</td>\n",
              "      <td>0.27</td>\n",
              "      <td>1.35</td>\n",
              "      <td>3.95</td>\n",
              "      <td>1.02</td>\n",
              "      <td>2.77</td>\n",
              "      <td>1285</td>\n",
              "    </tr>\n",
              "    <tr>\n",
              "      <th>86</th>\n",
              "      <td>1</td>\n",
              "      <td>12.16</td>\n",
              "      <td>1.61</td>\n",
              "      <td>2.31</td>\n",
              "      <td>22.8</td>\n",
              "      <td>90</td>\n",
              "      <td>1.78</td>\n",
              "      <td>1.69</td>\n",
              "      <td>0.43</td>\n",
              "      <td>1.56</td>\n",
              "      <td>2.45</td>\n",
              "      <td>1.33</td>\n",
              "      <td>2.26</td>\n",
              "      <td>495</td>\n",
              "    </tr>\n",
              "    <tr>\n",
              "      <th>56</th>\n",
              "      <td>0</td>\n",
              "      <td>14.22</td>\n",
              "      <td>1.70</td>\n",
              "      <td>2.30</td>\n",
              "      <td>16.3</td>\n",
              "      <td>118</td>\n",
              "      <td>3.20</td>\n",
              "      <td>3.00</td>\n",
              "      <td>0.26</td>\n",
              "      <td>2.03</td>\n",
              "      <td>6.38</td>\n",
              "      <td>0.94</td>\n",
              "      <td>3.31</td>\n",
              "      <td>970</td>\n",
              "    </tr>\n",
              "    <tr>\n",
              "      <th>154</th>\n",
              "      <td>2</td>\n",
              "      <td>12.58</td>\n",
              "      <td>1.29</td>\n",
              "      <td>2.10</td>\n",
              "      <td>20.0</td>\n",
              "      <td>103</td>\n",
              "      <td>1.48</td>\n",
              "      <td>0.58</td>\n",
              "      <td>0.53</td>\n",
              "      <td>1.40</td>\n",
              "      <td>7.60</td>\n",
              "      <td>0.58</td>\n",
              "      <td>1.55</td>\n",
              "      <td>640</td>\n",
              "    </tr>\n",
              "    <tr>\n",
              "      <th>100</th>\n",
              "      <td>1</td>\n",
              "      <td>12.08</td>\n",
              "      <td>2.08</td>\n",
              "      <td>1.70</td>\n",
              "      <td>17.5</td>\n",
              "      <td>97</td>\n",
              "      <td>2.23</td>\n",
              "      <td>2.17</td>\n",
              "      <td>0.26</td>\n",
              "      <td>1.40</td>\n",
              "      <td>3.30</td>\n",
              "      <td>1.27</td>\n",
              "      <td>2.96</td>\n",
              "      <td>710</td>\n",
              "    </tr>\n",
              "    <tr>\n",
              "      <th>168</th>\n",
              "      <td>2</td>\n",
              "      <td>13.58</td>\n",
              "      <td>2.58</td>\n",
              "      <td>2.69</td>\n",
              "      <td>24.5</td>\n",
              "      <td>105</td>\n",
              "      <td>1.55</td>\n",
              "      <td>0.84</td>\n",
              "      <td>0.39</td>\n",
              "      <td>1.54</td>\n",
              "      <td>8.66</td>\n",
              "      <td>0.74</td>\n",
              "      <td>1.80</td>\n",
              "      <td>750</td>\n",
              "    </tr>\n",
              "    <tr>\n",
              "      <th>135</th>\n",
              "      <td>2</td>\n",
              "      <td>12.60</td>\n",
              "      <td>2.46</td>\n",
              "      <td>2.20</td>\n",
              "      <td>18.5</td>\n",
              "      <td>94</td>\n",
              "      <td>1.62</td>\n",
              "      <td>0.66</td>\n",
              "      <td>0.63</td>\n",
              "      <td>0.94</td>\n",
              "      <td>7.10</td>\n",
              "      <td>0.73</td>\n",
              "      <td>1.58</td>\n",
              "      <td>695</td>\n",
              "    </tr>\n",
              "  </tbody>\n",
              "</table>\n",
              "</div>"
            ],
            "text/plain": [
              "     Class  Alcohol  Malic acid  ...   Hue  OD280/OD315 of diluted wines  Proline\n",
              "167      2    12.82        3.37  ...  0.72                          1.75      685\n",
              "27       0    13.30        1.72  ...  1.02                          2.77     1285\n",
              "86       1    12.16        1.61  ...  1.33                          2.26      495\n",
              "56       0    14.22        1.70  ...  0.94                          3.31      970\n",
              "154      2    12.58        1.29  ...  0.58                          1.55      640\n",
              "100      1    12.08        2.08  ...  1.27                          2.96      710\n",
              "168      2    13.58        2.58  ...  0.74                          1.80      750\n",
              "135      2    12.60        2.46  ...  0.73                          1.58      695\n",
              "\n",
              "[8 rows x 14 columns]"
            ]
          },
          "metadata": {
            "tags": []
          },
          "execution_count": 28
        }
      ]
    },
    {
      "cell_type": "code",
      "metadata": {
        "id": "EXqqi7yEytui",
        "colab_type": "code",
        "outputId": "2885de3e-6641-4ea0-9a82-011d358c8b08",
        "colab": {
          "base_uri": "https://localhost:8080/",
          "height": 338
        }
      },
      "source": [
        "wine_features = wine_data.drop('Class', axis=1)\n",
        "wine_features.sample(8)"
      ],
      "execution_count": 29,
      "outputs": [
        {
          "output_type": "execute_result",
          "data": {
            "text/html": [
              "<div>\n",
              "<style scoped>\n",
              "    .dataframe tbody tr th:only-of-type {\n",
              "        vertical-align: middle;\n",
              "    }\n",
              "\n",
              "    .dataframe tbody tr th {\n",
              "        vertical-align: top;\n",
              "    }\n",
              "\n",
              "    .dataframe thead th {\n",
              "        text-align: right;\n",
              "    }\n",
              "</style>\n",
              "<table border=\"1\" class=\"dataframe\">\n",
              "  <thead>\n",
              "    <tr style=\"text-align: right;\">\n",
              "      <th></th>\n",
              "      <th>Alcohol</th>\n",
              "      <th>Malic acid</th>\n",
              "      <th>Ash</th>\n",
              "      <th>Alcalinity of ash</th>\n",
              "      <th>Magnesium</th>\n",
              "      <th>Total phenols</th>\n",
              "      <th>Flavanoids</th>\n",
              "      <th>Nonflavanoid phenols</th>\n",
              "      <th>Proanthocyanins</th>\n",
              "      <th>Color intensity</th>\n",
              "      <th>Hue</th>\n",
              "      <th>OD280/OD315 of diluted wines</th>\n",
              "      <th>Proline</th>\n",
              "    </tr>\n",
              "  </thead>\n",
              "  <tbody>\n",
              "    <tr>\n",
              "      <th>142</th>\n",
              "      <td>13.52</td>\n",
              "      <td>3.17</td>\n",
              "      <td>2.72</td>\n",
              "      <td>23.5</td>\n",
              "      <td>97</td>\n",
              "      <td>1.55</td>\n",
              "      <td>0.52</td>\n",
              "      <td>0.50</td>\n",
              "      <td>0.55</td>\n",
              "      <td>4.35</td>\n",
              "      <td>0.89</td>\n",
              "      <td>2.06</td>\n",
              "      <td>520</td>\n",
              "    </tr>\n",
              "    <tr>\n",
              "      <th>48</th>\n",
              "      <td>14.10</td>\n",
              "      <td>2.02</td>\n",
              "      <td>2.40</td>\n",
              "      <td>18.8</td>\n",
              "      <td>103</td>\n",
              "      <td>2.75</td>\n",
              "      <td>2.92</td>\n",
              "      <td>0.32</td>\n",
              "      <td>2.38</td>\n",
              "      <td>6.20</td>\n",
              "      <td>1.07</td>\n",
              "      <td>2.75</td>\n",
              "      <td>1060</td>\n",
              "    </tr>\n",
              "    <tr>\n",
              "      <th>145</th>\n",
              "      <td>13.16</td>\n",
              "      <td>3.57</td>\n",
              "      <td>2.15</td>\n",
              "      <td>21.0</td>\n",
              "      <td>102</td>\n",
              "      <td>1.50</td>\n",
              "      <td>0.55</td>\n",
              "      <td>0.43</td>\n",
              "      <td>1.30</td>\n",
              "      <td>4.00</td>\n",
              "      <td>0.60</td>\n",
              "      <td>1.68</td>\n",
              "      <td>830</td>\n",
              "    </tr>\n",
              "    <tr>\n",
              "      <th>5</th>\n",
              "      <td>14.20</td>\n",
              "      <td>1.76</td>\n",
              "      <td>2.45</td>\n",
              "      <td>15.2</td>\n",
              "      <td>112</td>\n",
              "      <td>3.27</td>\n",
              "      <td>3.39</td>\n",
              "      <td>0.34</td>\n",
              "      <td>1.97</td>\n",
              "      <td>6.75</td>\n",
              "      <td>1.05</td>\n",
              "      <td>2.85</td>\n",
              "      <td>1450</td>\n",
              "    </tr>\n",
              "    <tr>\n",
              "      <th>2</th>\n",
              "      <td>13.16</td>\n",
              "      <td>2.36</td>\n",
              "      <td>2.67</td>\n",
              "      <td>18.6</td>\n",
              "      <td>101</td>\n",
              "      <td>2.80</td>\n",
              "      <td>3.24</td>\n",
              "      <td>0.30</td>\n",
              "      <td>2.81</td>\n",
              "      <td>5.68</td>\n",
              "      <td>1.03</td>\n",
              "      <td>3.17</td>\n",
              "      <td>1185</td>\n",
              "    </tr>\n",
              "    <tr>\n",
              "      <th>29</th>\n",
              "      <td>14.02</td>\n",
              "      <td>1.68</td>\n",
              "      <td>2.21</td>\n",
              "      <td>16.0</td>\n",
              "      <td>96</td>\n",
              "      <td>2.65</td>\n",
              "      <td>2.33</td>\n",
              "      <td>0.26</td>\n",
              "      <td>1.98</td>\n",
              "      <td>4.70</td>\n",
              "      <td>1.04</td>\n",
              "      <td>3.59</td>\n",
              "      <td>1035</td>\n",
              "    </tr>\n",
              "    <tr>\n",
              "      <th>18</th>\n",
              "      <td>14.19</td>\n",
              "      <td>1.59</td>\n",
              "      <td>2.48</td>\n",
              "      <td>16.5</td>\n",
              "      <td>108</td>\n",
              "      <td>3.30</td>\n",
              "      <td>3.93</td>\n",
              "      <td>0.32</td>\n",
              "      <td>1.86</td>\n",
              "      <td>8.70</td>\n",
              "      <td>1.23</td>\n",
              "      <td>2.82</td>\n",
              "      <td>1680</td>\n",
              "    </tr>\n",
              "    <tr>\n",
              "      <th>72</th>\n",
              "      <td>13.49</td>\n",
              "      <td>1.66</td>\n",
              "      <td>2.24</td>\n",
              "      <td>24.0</td>\n",
              "      <td>87</td>\n",
              "      <td>1.88</td>\n",
              "      <td>1.84</td>\n",
              "      <td>0.27</td>\n",
              "      <td>1.03</td>\n",
              "      <td>3.74</td>\n",
              "      <td>0.98</td>\n",
              "      <td>2.78</td>\n",
              "      <td>472</td>\n",
              "    </tr>\n",
              "  </tbody>\n",
              "</table>\n",
              "</div>"
            ],
            "text/plain": [
              "     Alcohol  Malic acid   Ash  ...   Hue  OD280/OD315 of diluted wines  Proline\n",
              "142    13.52        3.17  2.72  ...  0.89                          2.06      520\n",
              "48     14.10        2.02  2.40  ...  1.07                          2.75     1060\n",
              "145    13.16        3.57  2.15  ...  0.60                          1.68      830\n",
              "5      14.20        1.76  2.45  ...  1.05                          2.85     1450\n",
              "2      13.16        2.36  2.67  ...  1.03                          3.17     1185\n",
              "29     14.02        1.68  2.21  ...  1.04                          3.59     1035\n",
              "18     14.19        1.59  2.48  ...  1.23                          2.82     1680\n",
              "72     13.49        1.66  2.24  ...  0.98                          2.78      472\n",
              "\n",
              "[8 rows x 13 columns]"
            ]
          },
          "metadata": {
            "tags": []
          },
          "execution_count": 29
        }
      ]
    },
    {
      "cell_type": "code",
      "metadata": {
        "id": "Fr5UuveOywc_",
        "colab_type": "code",
        "outputId": "683b5644-4132-43c9-a50e-15974be7a230",
        "colab": {
          "base_uri": "https://localhost:8080/",
          "height": 195
        }
      },
      "source": [
        "wine_target = wine_data[['Class']]\n",
        "wine_target.sample(5)"
      ],
      "execution_count": 30,
      "outputs": [
        {
          "output_type": "execute_result",
          "data": {
            "text/html": [
              "<div>\n",
              "<style scoped>\n",
              "    .dataframe tbody tr th:only-of-type {\n",
              "        vertical-align: middle;\n",
              "    }\n",
              "\n",
              "    .dataframe tbody tr th {\n",
              "        vertical-align: top;\n",
              "    }\n",
              "\n",
              "    .dataframe thead th {\n",
              "        text-align: right;\n",
              "    }\n",
              "</style>\n",
              "<table border=\"1\" class=\"dataframe\">\n",
              "  <thead>\n",
              "    <tr style=\"text-align: right;\">\n",
              "      <th></th>\n",
              "      <th>Class</th>\n",
              "    </tr>\n",
              "  </thead>\n",
              "  <tbody>\n",
              "    <tr>\n",
              "      <th>81</th>\n",
              "      <td>1</td>\n",
              "    </tr>\n",
              "    <tr>\n",
              "      <th>91</th>\n",
              "      <td>1</td>\n",
              "    </tr>\n",
              "    <tr>\n",
              "      <th>1</th>\n",
              "      <td>0</td>\n",
              "    </tr>\n",
              "    <tr>\n",
              "      <th>98</th>\n",
              "      <td>1</td>\n",
              "    </tr>\n",
              "    <tr>\n",
              "      <th>128</th>\n",
              "      <td>1</td>\n",
              "    </tr>\n",
              "  </tbody>\n",
              "</table>\n",
              "</div>"
            ],
            "text/plain": [
              "     Class\n",
              "81       1\n",
              "91       1\n",
              "1        0\n",
              "98       1\n",
              "128      1"
            ]
          },
          "metadata": {
            "tags": []
          },
          "execution_count": 30
        }
      ]
    },
    {
      "cell_type": "code",
      "metadata": {
        "id": "nwIWBg55yyUC",
        "colab_type": "code",
        "colab": {}
      },
      "source": [
        "from sklearn.model_selection import train_test_split\n",
        "\n",
        "X_train, X_test, Y_train, Y_test = train_test_split(wine_features, wine_target, test_size=0.4, random_state=0)"
      ],
      "execution_count": 0,
      "outputs": []
    },
    {
      "cell_type": "code",
      "metadata": {
        "id": "YYE3QQyey0gQ",
        "colab_type": "code",
        "outputId": "7625b8b7-9132-4dfc-da65-b8f0495c7556",
        "colab": {
          "base_uri": "https://localhost:8080/",
          "height": 34
        }
      },
      "source": [
        "X_train.shape, Y_train.shape"
      ],
      "execution_count": 32,
      "outputs": [
        {
          "output_type": "execute_result",
          "data": {
            "text/plain": [
              "((106, 13), (106, 1))"
            ]
          },
          "metadata": {
            "tags": []
          },
          "execution_count": 32
        }
      ]
    },
    {
      "cell_type": "code",
      "metadata": {
        "id": "uNn1mbQ8y2sD",
        "colab_type": "code",
        "colab": {}
      },
      "source": [
        "X_train = torch.from_numpy(X_train.values).float()\n",
        "X_test = torch.from_numpy(X_test.values).float()"
      ],
      "execution_count": 0,
      "outputs": []
    },
    {
      "cell_type": "code",
      "metadata": {
        "id": "qT5uMiYPy4Qd",
        "colab_type": "code",
        "outputId": "9109aee4-13a9-4a28-e77c-d4084d81a5f3",
        "colab": {
          "base_uri": "https://localhost:8080/",
          "height": 34
        }
      },
      "source": [
        "X_train.shape, X_test.shape"
      ],
      "execution_count": 34,
      "outputs": [
        {
          "output_type": "execute_result",
          "data": {
            "text/plain": [
              "(torch.Size([106, 13]), torch.Size([72, 13]))"
            ]
          },
          "metadata": {
            "tags": []
          },
          "execution_count": 34
        }
      ]
    },
    {
      "cell_type": "code",
      "metadata": {
        "id": "cBpexgIWy572",
        "colab_type": "code",
        "colab": {}
      },
      "source": [
        "Y_train = torch.from_numpy(Y_train.values).view(1,-1)[0]\n",
        "Y_test = torch.from_numpy(Y_test.values).view(1,-1)[0]"
      ],
      "execution_count": 0,
      "outputs": []
    },
    {
      "cell_type": "code",
      "metadata": {
        "id": "7rQWS_bj0Bsb",
        "colab_type": "code",
        "outputId": "8739323e-06b7-46ae-c6bb-4a1137aa319d",
        "colab": {
          "base_uri": "https://localhost:8080/",
          "height": 34
        }
      },
      "source": [
        "Y_train.shape, Y_test.shape"
      ],
      "execution_count": 36,
      "outputs": [
        {
          "output_type": "execute_result",
          "data": {
            "text/plain": [
              "(torch.Size([106]), torch.Size([72]))"
            ]
          },
          "metadata": {
            "tags": []
          },
          "execution_count": 36
        }
      ]
    },
    {
      "cell_type": "code",
      "metadata": {
        "id": "6qFzUNKL0C_6",
        "colab_type": "code",
        "colab": {}
      },
      "source": [
        "input_size = 13\n",
        "output_size = 3\n",
        "hidden_size = 100"
      ],
      "execution_count": 0,
      "outputs": []
    },
    {
      "cell_type": "code",
      "metadata": {
        "id": "2LrmSnMk0Ewx",
        "colab_type": "code",
        "colab": {}
      },
      "source": [
        "class Net(nn.Module):\n",
        "\n",
        "  def __init__(self):\n",
        "    super(Net, self).__init__()\n",
        "    self.fc1 = nn.Linear(input_size, hidden_size)\n",
        "    self.fc2 = nn.Linear(hidden_size, hidden_size)\n",
        "    self.fc3 = nn.Linear(hidden_size, output_size)\n",
        "\n",
        "  def forward(self, X):\n",
        "    X = torch.sigmoid(self.fc1(X))\n",
        "    X = torch.sigmoid(self.fc2(X))\n",
        "    X = self.fc3(X)\n",
        "\n",
        "    return F.log_softmax(X, dim=1)"
      ],
      "execution_count": 0,
      "outputs": []
    },
    {
      "cell_type": "code",
      "metadata": {
        "id": "TyKCm9v20GcY",
        "colab_type": "code",
        "colab": {}
      },
      "source": [
        "model = Net()"
      ],
      "execution_count": 0,
      "outputs": []
    },
    {
      "cell_type": "code",
      "metadata": {
        "id": "lClmOSDp0IFN",
        "colab_type": "code",
        "colab": {}
      },
      "source": [
        "import torch.optim as optim\n",
        "\n",
        "optimizer = optim.Adam(model.parameters(), lr = 0.01)\n",
        "\n",
        "loss_fn = nn.NLLLoss()"
      ],
      "execution_count": 0,
      "outputs": []
    },
    {
      "cell_type": "code",
      "metadata": {
        "id": "TSHShLE60JhI",
        "colab_type": "code",
        "colab": {}
      },
      "source": [
        "epochs = 100"
      ],
      "execution_count": 0,
      "outputs": []
    },
    {
      "cell_type": "code",
      "metadata": {
        "id": "rH-tMyIY0K-i",
        "colab_type": "code",
        "outputId": "610bd0ed-7992-4645-b861-a16d9052437b",
        "colab": {
          "base_uri": "https://localhost:8080/",
          "height": 185
        }
      },
      "source": [
        "for epoch in range(epochs):\n",
        "\n",
        "  optimizer.zero_grad()\n",
        "  Y_pred = model(X_train)\n",
        "\n",
        "  loss = loss_fn(Y_pred, Y_train)\n",
        "  loss.backward()\n",
        "\n",
        "  optimizer.step()\n",
        "\n",
        "  if epoch%10 == 0:\n",
        "    print('Epoch : ', epoch, ' Loss : ', loss.item())"
      ],
      "execution_count": 42,
      "outputs": [
        {
          "output_type": "stream",
          "text": [
            "Epoch :  0  Loss :  1.0997155904769897\n",
            "Epoch :  10  Loss :  1.0037118196487427\n",
            "Epoch :  20  Loss :  0.750158965587616\n",
            "Epoch :  30  Loss :  0.6580314040184021\n",
            "Epoch :  40  Loss :  0.6314710974693298\n",
            "Epoch :  50  Loss :  0.6031659245491028\n",
            "Epoch :  60  Loss :  0.5804309844970703\n",
            "Epoch :  70  Loss :  0.5723595023155212\n",
            "Epoch :  80  Loss :  0.5465887784957886\n",
            "Epoch :  90  Loss :  0.5378631353378296\n"
          ],
          "name": "stdout"
        }
      ]
    },
    {
      "cell_type": "code",
      "metadata": {
        "id": "_2fsitmX3oEq",
        "colab_type": "code",
        "colab": {
          "base_uri": "https://localhost:8080/",
          "height": 34
        },
        "outputId": "e7a3f43d-c9fa-46cd-b914-187001cfc43b"
      },
      "source": [
        "cd '/content/drive/My Drive/Deep_Learning_Projects/Wine_Dataset/'"
      ],
      "execution_count": 43,
      "outputs": [
        {
          "output_type": "stream",
          "text": [
            "/content/drive/My Drive/Deep_Learning_Projects/Wine_Dataset\n"
          ],
          "name": "stdout"
        }
      ]
    },
    {
      "cell_type": "code",
      "metadata": {
        "id": "zu4fmrXl3FYK",
        "colab_type": "code",
        "colab": {}
      },
      "source": [
        "torch.save({\n",
        "    'epoch' : epoch,\n",
        "    'model_state_dict' : model.state_dict(),\n",
        "    'optimizer_state_dict' : optimizer.state_dict(),\n",
        "    'loss' : loss, \n",
        "}, 'models/wine_checkpoint.pth')"
      ],
      "execution_count": 0,
      "outputs": []
    },
    {
      "cell_type": "code",
      "metadata": {
        "id": "vEhrx2_m1nr6",
        "colab_type": "code",
        "colab": {}
      },
      "source": [
        "predict_out = model(X_test)\n",
        "_, predict_y = torch.max(predict_out, 1)"
      ],
      "execution_count": 0,
      "outputs": []
    },
    {
      "cell_type": "code",
      "metadata": {
        "id": "Apni1OBB1rQu",
        "colab_type": "code",
        "colab": {}
      },
      "source": [
        "from sklearn.metrics import precision_score, accuracy_score, recall_score"
      ],
      "execution_count": 0,
      "outputs": []
    },
    {
      "cell_type": "code",
      "metadata": {
        "id": "7Gx5tKRk1t7P",
        "colab_type": "code",
        "outputId": "e0aadd11-2388-4f06-d4b9-a8bf0fd99d94",
        "colab": {
          "base_uri": "https://localhost:8080/",
          "height": 67
        }
      },
      "source": [
        "print(\"Accuracy score : \", accuracy_score(Y_test.data, predict_y.data))\n",
        "print(\"Precision score : \", precision_score(Y_test.data, predict_y.data, average='micro'))\n",
        "print(\"Recall score : \", recall_score(Y_test.data, predict_y.data, average='micro'))"
      ],
      "execution_count": 47,
      "outputs": [
        {
          "output_type": "stream",
          "text": [
            "Accuracy score :  0.6944444444444444\n",
            "Precision score :  0.6944444444444444\n",
            "Recall score :  0.6944444444444444\n"
          ],
          "name": "stdout"
        }
      ]
    },
    {
      "cell_type": "code",
      "metadata": {
        "id": "TZm6qHb81vfF",
        "colab_type": "code",
        "colab": {}
      },
      "source": [
        ""
      ],
      "execution_count": 0,
      "outputs": []
    }
  ]
}